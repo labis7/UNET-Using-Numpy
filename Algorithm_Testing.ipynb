{
 "cells": [
  {
   "cell_type": "code",
   "execution_count": 70,
   "metadata": {},
   "outputs": [],
   "source": [
    "# import libraries\n",
    "#import torch\n",
    "import os\n",
    "import numpy as np\n",
    "import matplotlib.pyplot as plt\n",
    "from PIL import Image\n",
    "import cv2\n",
    "import gzip\n",
    "import pickle\n",
    "import os\n",
    "from urllib.request import urlretrieve\n",
    "import numpy as np\n",
    "from matplotlib import image\n",
    "\n",
    "\n",
    "def conv(image, params, s = 1, pad = 1 ): # s = 1 (conv stride)\n",
    "    #f1 shape : (num_filters,input channels, f_h, f_w)\n",
    "    #image shape: (channels, height, width)\n",
    "    [f, b] = params\n",
    "    if(pad >= 1):\n",
    "        tmp = np.zeros((image.shape[0],image.shape[1]+2*pad ,image.shape[2]+2*pad))\n",
    "        tmp[:,pad:-pad,pad:-pad] = image\n",
    "        image = tmp    \n",
    "        \n",
    "    f_num = f.shape[0]\n",
    "    f_depth = f.shape[1] #f1 = 1 , f2 = 8\n",
    "    f_size = f.shape[2] \n",
    "        \n",
    "\n",
    "    h_range = int((image.shape[1] - f_size) / s) + 1     # (W - F + 2P) / S  \n",
    "    w_range = int((image.shape[2] - f_size) / s) + 1     # (W - F + 2P) / S  \n",
    "    np_o = np.zeros((f_num, h_range, w_range))\n",
    "    for z in range(f_num): # Number of filters\n",
    "        for _h in range(h_range):      \n",
    "            for _w in range(w_range):\n",
    "                np_o[z, _h, _w] = np.sum(np.multiply(image[:, _h*s : _h*s + f_size, _w*s : _w*s + f_size] , f[z, :, :, :])) + b[z]\n",
    "    \n",
    "    return np_o\n",
    "def conv_alg(image, params, s = 1, pad = 1 ): # s = 1 (conv stride)\n",
    "    #f1 shape : (num_filters,input channels, f_h, f_w)\n",
    "    #image shape: (channels, height, width)\n",
    "    [f, b] = params\n",
    "    if(pad >= 1):\n",
    "        tmp = np.zeros((image.shape[0],image.shape[1]+2*pad ,image.shape[2]+2*pad))\n",
    "        tmp[:,pad:-pad,pad:-pad] = image\n",
    "        image = tmp    \n",
    "        \n",
    "    f_num = f.shape[0]\n",
    "    f_size = f.shape[2] \n",
    "    \n",
    "    np_o_t = np.zeros((f_num, image.shape[1] + (f_size-1), image.shape[2]+ (f_size-1)))\n",
    "    for z in range(f_num): # Number of filters\n",
    "        for _h in range(image.shape[1]):      \n",
    "            for _w in range(image.shape[2]):\n",
    "                np_o_t[z,_h:(_h+f_size),_w:(_w+f_size)] += np.sum((image[:, _h, _w].reshape(-1,1,1)*f[z, :, :, :]),axis=0)\n",
    "        np_o_t[z,:,:] += b[z]*np.ones((image.shape[1] + (f_size-1),image.shape[2] + (f_size-1)))\n",
    "    return np_o_t[:,(f_size-1):-(f_size-1), (f_size-1):-(f_size-1)]"
   ]
  },
  {
   "cell_type": "code",
   "execution_count": 94,
   "metadata": {},
   "outputs": [],
   "source": [
    "x = np.ones((1,7,7))\n",
    "\n",
    "x[:,0,1:4]=1\n",
    "x[:,1,2:5]=2\n",
    "x[:,2,3:6]=3\n",
    "x[:,3,3:5]=4\n",
    "x[:,4,2:4]=5\n",
    "x[:,5,1:3]=6\n",
    "x[:,6,0:2]=7\n",
    "\n",
    "#k = np.random.rand(1,2,3,3)\n",
    "k=np.ones((1,1,3,3))\n",
    "k[:,:,0,1]=1\n",
    "k[:,:,1,0]=2\n",
    "k[:,:,1,2]=3\n",
    "k[:,:,2,1]=4\n",
    "\n",
    "\n",
    "b=np.zeros((1))"
   ]
  },
  {
   "cell_type": "code",
   "execution_count": 95,
   "metadata": {},
   "outputs": [
    {
     "name": "stdout",
     "output_type": "stream",
     "text": [
      "[[[1. 1. 1. 1. 1. 1. 1.]\n",
      "  [1. 1. 2. 2. 2. 1. 1.]\n",
      "  [1. 1. 1. 3. 3. 3. 1.]\n",
      "  [1. 1. 1. 4. 4. 1. 1.]\n",
      "  [1. 1. 5. 5. 1. 1. 1.]\n",
      "  [1. 6. 6. 1. 1. 1. 1.]\n",
      "  [7. 7. 1. 1. 1. 1. 1.]]]\n",
      "[[[[1. 1. 1.]\n",
      "   [2. 1. 3.]\n",
      "   [1. 4. 1.]]]]\n"
     ]
    }
   ],
   "source": [
    "print(x)\n",
    "print(k)"
   ]
  },
  {
   "cell_type": "code",
   "execution_count": 96,
   "metadata": {},
   "outputs": [
    {
     "name": "stdout",
     "output_type": "stream",
     "text": [
      "[[[18. 21. 31. 30. 27.]\n",
      "  [16. 26. 41. 44. 25.]\n",
      "  [19. 46. 51. 34. 25.]\n",
      "  [52. 59. 38. 29. 18.]\n",
      "  [69. 44. 33. 19. 15.]]]\n",
      "[[[17. 20. 25. 25. 22.]\n",
      "  [16. 27. 33. 38. 27.]\n",
      "  [19. 31. 42. 43. 34.]\n",
      "  [33. 40. 51. 42. 18.]\n",
      "  [46. 61. 50. 19. 15.]]]\n"
     ]
    }
   ],
   "source": [
    "params = [k,b]\n",
    "res_ref = conv(x,params,1,0)#padding = 0\n",
    "res = conv_alg(x,params,1,0)\n",
    "print(res_ref)\n",
    "print(res)"
   ]
  },
  {
   "cell_type": "code",
   "execution_count": 93,
   "metadata": {},
   "outputs": [
    {
     "name": "stdout",
     "output_type": "stream",
     "text": [
      "[[[ -2.  -2. -12. -10. -10.]\n",
      "  [  0.   2. -16. -12.   4.]\n",
      "  [  0. -30. -18.  18.  18.]\n",
      "  [-38. -38.  26.  26.   0.]\n",
      "  [-46.  34.  34.   0.   0.]]]\n"
     ]
    }
   ],
   "source": [
    "print(res-res_ref)"
   ]
  },
  {
   "cell_type": "code",
   "execution_count": null,
   "metadata": {},
   "outputs": [],
   "source": []
  }
 ],
 "metadata": {
  "anaconda-cloud": {},
  "kernelspec": {
   "display_name": "Python 3",
   "language": "python",
   "name": "python3"
  },
  "language_info": {
   "codemirror_mode": {
    "name": "ipython",
    "version": 3
   },
   "file_extension": ".py",
   "mimetype": "text/x-python",
   "name": "python",
   "nbconvert_exporter": "python",
   "pygments_lexer": "ipython3",
   "version": "3.8.2"
  }
 },
 "nbformat": 4,
 "nbformat_minor": 2
}
