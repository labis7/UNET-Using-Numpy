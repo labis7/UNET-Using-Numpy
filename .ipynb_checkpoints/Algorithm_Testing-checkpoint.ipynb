{
 "cells": [
  {
   "cell_type": "code",
   "execution_count": 70,
   "metadata": {},
   "outputs": [],
   "source": [
    "# import libraries\n",
    "#import torch\n",
    "import os\n",
    "import numpy as np\n",
    "import matplotlib.pyplot as plt\n",
    "from PIL import Image\n",
    "import cv2\n",
    "import gzip\n",
    "import pickle\n",
    "import os\n",
    "from urllib.request import urlretrieve\n",
    "import numpy as np\n",
    "from matplotlib import image\n",
    "\n",
    "\n",
    "def conv(image, params, s = 1, pad = 1 ): # s = 1 (conv stride)\n",
    "    #f1 shape : (num_filters,input channels, f_h, f_w)\n",
    "    #image shape: (channels, height, width)\n",
    "    [f, b] = params\n",
    "    if(pad >= 1):\n",
    "        tmp = np.zeros((image.shape[0],image.shape[1]+2*pad ,image.shape[2]+2*pad))\n",
    "        tmp[:,pad:-pad,pad:-pad] = image\n",
    "        image = tmp    \n",
    "        \n",
    "    f_num = f.shape[0]\n",
    "    f_depth = f.shape[1] #f1 = 1 , f2 = 8\n",
    "    f_size = f.shape[2] \n",
    "        \n",
    "\n",
    "    h_range = int((image.shape[1] - f_size) / s) + 1     # (W - F + 2P) / S  \n",
    "    w_range = int((image.shape[2] - f_size) / s) + 1     # (W - F + 2P) / S  \n",
    "    np_o = np.zeros((f_num, h_range, w_range))\n",
    "    for z in range(f_num): # Number of filters\n",
    "        for _h in range(h_range):      \n",
    "            for _w in range(w_range):\n",
    "                np_o[z, _h, _w] = np.sum(np.multiply(image[:, _h*s : _h*s + f_size, _w*s : _w*s + f_size] , f[z, :, :, :])) + b[z]\n",
    "    \n",
    "    return np_o\n",
    "def conv_alg(image, params, s = 1, pad = 1 ): # s = 1 (conv stride)\n",
    "    #f1 shape : (num_filters,input channels, f_h, f_w)\n",
    "    #image shape: (channels, height, width)\n",
    "    [f, b] = params\n",
    "    if(pad >= 1):\n",
    "        tmp = np.zeros((image.shape[0],image.shape[1]+2*pad ,image.shape[2]+2*pad))\n",
    "        tmp[:,pad:-pad,pad:-pad] = image\n",
    "        image = tmp    \n",
    "        \n",
    "    f_num = f.shape[0]\n",
    "    f_size = f.shape[2] \n",
    "    \n",
    "    np_o_t = np.zeros((f_num, image.shape[1] + (f_size-1), image.shape[2]+ (f_size-1)))\n",
    "    for z in range(f_num): # Number of filters\n",
    "        for _h in range(image.shape[1]):      \n",
    "            for _w in range(image.shape[2]):\n",
    "                np_o_t[z,_h:(_h+f_size),_w:(_w+f_size)] += np.sum((image[:, _h, _w].reshape(-1,1,1)*f[z, :, :, :]),axis=0)\n",
    "        np_o_t[z,:,:] += b[z]*np.ones((image.shape[1] + (f_size-1),image.shape[2] + (f_size-1)))\n",
    "    return np_o_t[:,(f_size-1):-(f_size-1), (f_size-1):-(f_size-1)]"
   ]
  },
  {
   "cell_type": "code",
   "execution_count": 84,
   "metadata": {},
   "outputs": [],
   "source": [
    "x = np.random.rand(1,7,7)\n",
    "\n",
    "x[:,0,1:4]=1\n",
    "x[:,1,2:5]=2\n",
    "x[:,2,3:6]=3\n",
    "x[:,3,3:5]=4\n",
    "x[:,4,2:4]=5\n",
    "x[:,5,1:3]=6\n",
    "x[:,6,0:2]=7\n",
    "\n",
    "#k = np.random.rand(1,2,3,3)\n",
    "k=np.ones((1,2,3,3))\n",
    "k[:,:,0,1]=1\n",
    "k[:,:,1,0]=2\n",
    "k[:,:,1,2]=3\n",
    "k[:,:,2,1]=4\n",
    "\n",
    "\n",
    "b=np.zeros((1))"
   ]
  },
  {
   "cell_type": "code",
   "execution_count": 85,
   "metadata": {},
   "outputs": [
    {
     "name": "stdout",
     "output_type": "stream",
     "text": [
      "[[[0.32585909 0.7001615  0.2924983  0.29742413 0.00523402 0.36364672\n",
      "   0.18693151]\n",
      "  [0.88962462 0.25913751 0.49263963 0.75013881 0.9815125  0.64195033\n",
      "   0.73757905]\n",
      "  [0.97352385 0.2150535  0.78129165 0.50512124 0.8838224  0.3376249\n",
      "   0.35220077]\n",
      "  [0.00172408 0.23403519 0.77588923 0.85012986 0.76917653 0.0931459\n",
      "   0.81383276]\n",
      "  [0.11907118 0.51428821 0.95794834 0.74646152 0.08568613 0.62134708\n",
      "   0.23706689]\n",
      "  [0.87963075 0.46601681 0.78116789 0.35987387 0.6584328  0.03455438\n",
      "   0.1912034 ]\n",
      "  [0.35428726 0.98989579 0.30679291 0.5476421  0.25268246 0.08976776\n",
      "   0.9938402 ]]]\n",
      "[[[[0.93292628 0.86722061 0.84072541]\n",
      "   [0.39825179 0.60670154 0.42271526]\n",
      "   [0.83051269 0.27576888 0.28406703]]]]\n"
     ]
    }
   ],
   "source": [
    "print(x)\n",
    "print(k)"
   ]
  },
  {
   "cell_type": "code",
   "execution_count": 86,
   "metadata": {},
   "outputs": [
    {
     "name": "stdout",
     "output_type": "stream",
     "text": [
      "[[[2.96663591 2.41364283 2.6406515  2.51248075 2.49673101]\n",
      "  [2.60367906 2.72265209 4.02385153 3.91543535 3.69387551]\n",
      "  [2.73506923 3.12949085 4.08568775 3.18623978 2.43015227]\n",
      "  [2.70221897 3.41215905 3.91341957 2.64065364 2.604562  ]\n",
      "  [2.98008896 3.81205867 2.89844445 2.40048963 1.69903121]]]\n",
      "[[[2.99189633 2.563334   3.14314656 3.06229953 2.71955757]\n",
      "  [2.51472308 3.26128453 4.25781671 3.36977656 3.27381164]\n",
      "  [2.87624397 3.56380558 3.77800004 2.81228871 2.17449266]\n",
      "  [3.32571186 3.48733011 3.56870515 2.05174512 2.18959437]\n",
      "  [3.37943659 3.4536564  2.32849469 2.08036379 1.9854814 ]]]\n"
     ]
    }
   ],
   "source": [
    "params = [k,b]\n",
    "res_ref = conv(x,params,1,0)#padding = 0\n",
    "res = conv_alg(x,params,1,0)\n",
    "print(res_ref)\n",
    "print(res)"
   ]
  },
  {
   "cell_type": "code",
   "execution_count": 87,
   "metadata": {},
   "outputs": [
    {
     "name": "stdout",
     "output_type": "stream",
     "text": [
      "[[[ 0.02526041  0.14969117  0.50249506  0.54981877  0.22282655]\n",
      "  [-0.08895599  0.53863244  0.23396518 -0.54565879 -0.42006388]\n",
      "  [ 0.14117474  0.43431473 -0.30768771 -0.37395108 -0.25565961]\n",
      "  [ 0.6234929   0.07517106 -0.34471442 -0.58890852 -0.41496763]\n",
      "  [ 0.39934764 -0.35840228 -0.56994976 -0.32012584  0.28645019]]]\n"
     ]
    }
   ],
   "source": [
    "print(res-res_ref)"
   ]
  },
  {
   "cell_type": "code",
   "execution_count": null,
   "metadata": {},
   "outputs": [],
   "source": []
  }
 ],
 "metadata": {
  "anaconda-cloud": {},
  "kernelspec": {
   "display_name": "Python 3",
   "language": "python",
   "name": "python3"
  },
  "language_info": {
   "codemirror_mode": {
    "name": "ipython",
    "version": 3
   },
   "file_extension": ".py",
   "mimetype": "text/x-python",
   "name": "python",
   "nbconvert_exporter": "python",
   "pygments_lexer": "ipython3",
   "version": "3.8.2"
  }
 },
 "nbformat": 4,
 "nbformat_minor": 2
}
